{
 "cells": [
  {
   "cell_type": "markdown",
   "id": "35e648a4",
   "metadata": {},
   "source": [
    "# TP Python : fonctions, branchement « if »"
   ]
  },
  {
   "cell_type": "markdown",
   "id": "0bb92574",
   "metadata": {},
   "source": [
    "Le lycée fait imprimer par la société pubT des logos sur des T-shirts qui seront offerts aux élèves à la remise des diplômes du Baccalauréat."
   ]
  },
  {
   "cell_type": "markdown",
   "id": "08a1bcf2",
   "metadata": {},
   "source": [
    "La société qui réalise les impressions donne un prix $p1$ fonction du nombre de T-shirts commandés. Chaque T-shirt est facturé 35€ alors que les frais d’emballage et de port sont facturés 20€.\n",
    "\n",
    "1) a) Donner l’expression de p1 en fonction du nombre n de T-shirts commandés :\n",
    "\n",
    "p1(n) = ... .\n",
    "\n",
    "b) calculer p1(5)=... et p1(10)=... ."
   ]
  },
  {
   "cell_type": "markdown",
   "id": "42d20095",
   "metadata": {},
   "source": [
    "En Python, remplir les ... pour programmer la fonction p1 dans la ligne suivante."
   ]
  },
  {
   "cell_type": "code",
   "execution_count": 27,
   "id": "5f2d7183",
   "metadata": {},
   "outputs": [],
   "source": [
    "def p1(n):\n",
    "    prix = 20+...*n\n",
    "    return(prix)"
   ]
  },
  {
   "cell_type": "markdown",
   "id": "80e99627",
   "metadata": {},
   "source": [
    "Pour utiliser cette fonction, il suffit de l'appeler par son nom (ici, $p1$ et de noter entre parenthèses la valeur de la variable $n$). \n",
    "\n",
    "Par exemple, si je veux calculer le prix pour une commande de $5$ T-shirts, taper : $p1(5)$\n",
    "\n",
    "Faites cette manipulation dans la ligne ci-dessous pour retrouver les valeurs p1(5) et p1(10) trouvées à la main (appeler le professeur si vous ne retrouvez pas les bonnes valeurs)."
   ]
  },
  {
   "cell_type": "code",
   "execution_count": null,
   "id": "dc6da3fc",
   "metadata": {},
   "outputs": [],
   "source": []
  },
  {
   "cell_type": "code",
   "execution_count": null,
   "id": "e040909c",
   "metadata": {},
   "outputs": [],
   "source": []
  },
  {
   "cell_type": "markdown",
   "id": "9b6a2b4e",
   "metadata": {},
   "source": [
    "Le lycée demande une remise en cas de commande d’un grand nombre de T-shirts. La société pubT a un calcul de prix différent si le nombre n de T-shirt est tel que $n > 10$. On a alors un prix $p2$ pour lequel chaque T-shirt est facturé 30€ alors que les frais d’emballage et de port sont facturés 70€."
   ]
  },
  {
   "cell_type": "markdown",
   "id": "a0e6a9be",
   "metadata": {},
   "source": [
    "3)a) Donner l’expression p2(n) = ... .\n",
    "\n",
    "b) Programmer dans la ligne ci-dessous la fonction $p2$ en Python."
   ]
  },
  {
   "cell_type": "code",
   "execution_count": 25,
   "id": "dc7b588f",
   "metadata": {},
   "outputs": [],
   "source": [
    "def p2(n):\n",
    "    prix = ...\n",
    "    return(...)"
   ]
  },
  {
   "cell_type": "markdown",
   "id": "fff320ca",
   "metadata": {},
   "source": [
    "c) Vérifier en exécutant votre fonction ci-dessous que p2(11) = 400."
   ]
  },
  {
   "cell_type": "code",
   "execution_count": null,
   "id": "e548d0b4",
   "metadata": {},
   "outputs": [],
   "source": []
  },
  {
   "cell_type": "markdown",
   "id": "abff5496",
   "metadata": {},
   "source": [
    "d) Vérifier que pour 218 T-shirt p2 donne un  prix à inférieur à p1 en calculant successivement les deux valeurs."
   ]
  },
  {
   "cell_type": "code",
   "execution_count": null,
   "id": "275d1b63",
   "metadata": {},
   "outputs": [],
   "source": []
  },
  {
   "cell_type": "code",
   "execution_count": null,
   "id": "85b73b63",
   "metadata": {},
   "outputs": [],
   "source": []
  },
  {
   "cell_type": "markdown",
   "id": "99edfff1",
   "metadata": {},
   "source": [
    "4) Sur le site de la société pubT, on veut pouvoir afficher le prix des commandes sans avoir à montrer au client deux prix p1 et p2. On veut définir une fonction p qui va donner le bon prix en fonction du nombre de T-shirts commandés.\n",
    "Compléter l'algorithme qui permet de renvoyer le bon prix ci-dessous.\n",
    "\n",
    "Si le nombre n de T-shirt est tel que n > 10 alors\n",
    "\tp(n) = p...(n)\n",
    "Sinon \n",
    "\tp(n) = p...(n)\n"
   ]
  },
  {
   "cell_type": "markdown",
   "id": "a7149ac8",
   "metadata": {},
   "source": [
    " Ecrire la fonction $p$ en Python dans le paragraphe en dessous."
   ]
  },
  {
   "cell_type": "code",
   "execution_count": 22,
   "id": "e94a16cf",
   "metadata": {},
   "outputs": [],
   "source": [
    "def p(n):\n",
    "    if n ... 10:\n",
    "        return(...)\n",
    "    else:\n",
    "        return(...)"
   ]
  },
  {
   "cell_type": "markdown",
   "id": "1ddac24c",
   "metadata": {},
   "source": [
    "Vérifier que pour 218 T-shirt la fonction $p$ donne bien le même prix que $p2$ en tapant p(218) ci-dessous."
   ]
  },
  {
   "cell_type": "code",
   "execution_count": null,
   "id": "97435f4f",
   "metadata": {},
   "outputs": [],
   "source": []
  },
  {
   "cell_type": "markdown",
   "id": "9b00cf2a",
   "metadata": {},
   "source": [
    "Afin d'avoir un affichage plus explicite, on va créer un fonction d'affichage du prix qui donne une phrase qui ressemble à \"Le prix pour 25 T-shirts est de 780 euros\" lorsqu'on exécute $affichage(25)$. Modifier la fonction ci-dessous pour y parvenir et vérifier ce qu'elle donne lorsqu'on exécute $affichage(218)$."
   ]
  },
  {
   "cell_type": "code",
   "execution_count": 3,
   "id": "bfafa827",
   "metadata": {},
   "outputs": [],
   "source": [
    "def affichage(n):\n",
    "    print('Le prix pour', n, 'T-shirts est de ',..., '...')"
   ]
  },
  {
   "cell_type": "code",
   "execution_count": null,
   "id": "503c3200",
   "metadata": {},
   "outputs": [],
   "source": []
  },
  {
   "cell_type": "markdown",
   "id": "b8c4f6e8",
   "metadata": {},
   "source": [
    "Après avoir consulté la page 21 de votre manuel, modifier la fonction graph_p pour qu'elle affiche le graphique de la fonction $p$ pour les nombres de 0 à 218 en rouge et comme un nuage de points."
   ]
  },
  {
   "cell_type": "code",
   "execution_count": 44,
   "id": "4808aea5",
   "metadata": {},
   "outputs": [],
   "source": [
    "import matplotlib.pyplot as plt\n",
    "def graph_p():\n",
    "    X=[n for n in range(10)]\n",
    "    Y=[p(n) for n in X]\n",
    "    plt.plot(X,Y,'b-')\n",
    "    plt.grid()\n",
    "    plt.show()\n",
    "    return()"
   ]
  },
  {
   "cell_type": "code",
   "execution_count": null,
   "id": "09b905d0",
   "metadata": {},
   "outputs": [],
   "source": [
    "\n"
   ]
  },
  {
   "cell_type": "code",
   "execution_count": null,
   "id": "2a5c715d",
   "metadata": {},
   "outputs": [],
   "source": []
  }
 ],
 "metadata": {
  "kernelspec": {
   "display_name": "Python 3",
   "language": "python",
   "name": "python3"
  },
  "language_info": {
   "codemirror_mode": {
    "name": "ipython",
    "version": 3
   },
   "file_extension": ".py",
   "mimetype": "text/x-python",
   "name": "python",
   "nbconvert_exporter": "python",
   "pygments_lexer": "ipython3",
   "version": "3.8.8"
  }
 },
 "nbformat": 4,
 "nbformat_minor": 5
}
