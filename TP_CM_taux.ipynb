{
 "cells": [
  {
   "cell_type": "markdown",
   "id": "592f4037",
   "metadata": {},
   "source": [
    "# voici le TP"
   ]
  },
  {
   "cell_type": "markdown",
   "id": "5d84dc5c",
   "metadata": {},
   "source": [
    "$ffrf$"
   ]
  },
  {
   "cell_type": "markdown",
   "id": "38b77e81",
   "metadata": {},
   "source": [
    "xdscdc"
   ]
  },
  {
   "cell_type": "code",
   "execution_count": 2,
   "id": "14ebec2f",
   "metadata": {},
   "outputs": [],
   "source": [
    "def f(x):\n",
    "    y=x+2\n",
    "    return(y)"
   ]
  },
  {
   "cell_type": "markdown",
   "id": "4ee7ba25",
   "metadata": {},
   "source": []
  },
  {
   "cell_type": "code",
   "execution_count": 3,
   "id": "d4239c66",
   "metadata": {},
   "outputs": [
    {
     "data": {
      "text/plain": [
       "7"
      ]
     },
     "execution_count": 3,
     "metadata": {},
     "output_type": "execute_result"
    }
   ],
   "source": [
    "f(5)"
   ]
  },
  {
   "cell_type": "code",
   "execution_count": null,
   "id": "68b5aced",
   "metadata": {},
   "outputs": [],
   "source": []
  }
 ],
 "metadata": {
  "kernelspec": {
   "display_name": "Python 3",
   "language": "python",
   "name": "python3"
  },
  "language_info": {
   "codemirror_mode": {
    "name": "ipython",
    "version": 3
   },
   "file_extension": ".py",
   "mimetype": "text/x-python",
   "name": "python",
   "nbconvert_exporter": "python",
   "pygments_lexer": "ipython3",
   "version": "3.8.8"
  }
 },
 "nbformat": 4,
 "nbformat_minor": 5
}
